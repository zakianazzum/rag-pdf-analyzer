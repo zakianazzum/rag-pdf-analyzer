{
 "cells": [
  {
   "cell_type": "markdown",
   "id": "b40286f5adc0f734",
   "metadata": {
    "collapsed": false
   },
   "source": [
    "# RAG application using open_source models (ollama)"
   ]
  },
  {
   "cell_type": "code",
   "execution_count": 15,
   "id": "b0838f2330987198",
   "metadata": {
    "ExecuteTime": {
     "end_time": "2024-03-19T09:33:36.943819800Z",
     "start_time": "2024-03-19T09:33:36.296524400Z"
    },
    "collapsed": false
   },
   "outputs": [],
   "source": [
    "from langchain_community.llms import Ollama \n",
    "from langchain_community.embeddings import OllamaEmbeddings"
   ]
  },
  {
   "cell_type": "code",
   "execution_count": 16,
   "id": "70352c44fac67640",
   "metadata": {
    "ExecuteTime": {
     "end_time": "2024-03-19T09:46:55.351909800Z",
     "start_time": "2024-03-19T09:46:55.348922400Z"
    },
    "collapsed": false
   },
   "outputs": [],
   "source": [
    "MODEL = \"llama2\"\n",
    "model = Ollama(model=MODEL)\n",
    "embeddings = OllamaEmbeddings(model=MODEL)"
   ]
  },
  {
   "cell_type": "code",
   "execution_count": 10,
   "id": "1eddebc9",
   "metadata": {},
   "outputs": [],
   "source": [
    "from langchain_core.output_parsers import StrOutputParser\n",
    "\n",
    "parser = StrOutputParser()\n",
    "\n",
    "chain = model | parser "
   ]
  },
  {
   "cell_type": "code",
   "execution_count": null,
   "id": "d5ecc3730ebc624d",
   "metadata": {
    "ExecuteTime": {
     "end_time": "2024-03-19T09:52:17.367354Z",
     "start_time": "2024-03-19T09:52:17.311034500Z"
    },
    "collapsed": false
   },
   "outputs": [],
   "source": [
    "from langchain.prompts import PromptTemplate\n",
    "\n",
    "template = \"\"\"\n",
    "Answer the question based on the context below. If you can't answer the \n",
    "question, reply \"I don't know.\"\n",
    "\n",
    "context: {context}\n",
    "\n",
    "\n",
    "\n",
    "\n",
    "Question: {question} \n",
    "\"\"\"\n",
    "\n",
    "prompt = PromptTemplate.from_template(template)\n"
   ]
  },
  {
   "cell_type": "code",
   "execution_count": 14,
   "id": "468106396109a255",
   "metadata": {
    "collapsed": false
   },
   "outputs": [],
   "source": [
    "chain = prompt | model | parser"
   ]
  },
  {
   "cell_type": "code",
   "execution_count": null,
   "id": "b388191f",
   "metadata": {},
   "outputs": [],
   "source": [
    "from langchain_community.document_loaders import PyPDFLoader \n",
    "\n",
    "file_name = \"example.pdf\"\n",
    "\n",
    "loader = PyPDFLoader(file_name)\n",
    "pages = loader.load_and_split()\n",
    "pages"
   ]
  },
  {
   "cell_type": "code",
   "execution_count": 22,
   "id": "8d594239",
   "metadata": {},
   "outputs": [],
   "source": [
    "from langchain_community.vectorstores import DocArrayInMemorySearch\n",
    "\n",
    "vectorstore = DocArrayInMemorySearch.from_documents(pages, embedding=embeddings)\n",
    "\n",
    "retriever = vectorstore.as_retriever()"
   ]
  },
  {
   "cell_type": "code",
   "execution_count": 11,
   "id": "5ed6baa7",
   "metadata": {},
   "outputs": [],
   "source": [
    "from operator import itemgetter\n",
    "\n",
    "chain = (\n",
    "    {\n",
    "        \"context\": itemgetter(\"question\") | retriever,\n",
    "        \"question\": itemgetter(\"question\"),\n",
    "    }\n",
    "    | prompt\n",
    "    | model\n",
    "    | parser\n",
    ")"
   ]
  },
  {
   "cell_type": "code",
   "execution_count": 23,
   "id": "b30dfc1f",
   "metadata": {},
   "outputs": [],
   "source": [
    "questions = [\n",
    "    #\"Example question 1\",\n",
    "    #\"Example question 2\",\n",
    "    #\"Example question 3\",\n",
    "]\n",
    "\n",
    "for question in questions:\n",
    "    print(f\"Question: {question}\")\n",
    "    print(f\"Answer : {chain.invoke({'question' : question})}\")\n",
    "    print()"
   ]
  }
 ],
 "metadata": {
  "kernelspec": {
   "display_name": "Python 3",
   "language": "python",
   "name": "python3"
  },
  "language_info": {
   "codemirror_mode": {
    "name": "ipython",
    "version": 3
   },
   "file_extension": ".py",
   "mimetype": "text/x-python",
   "name": "python",
   "nbconvert_exporter": "python",
   "pygments_lexer": "ipython3",
   "version": "3.12.2"
  }
 },
 "nbformat": 4,
 "nbformat_minor": 5
}
